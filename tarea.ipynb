{
 "cells": [
  {
   "cell_type": "code",
   "execution_count": 14,
   "id": "4d1b14e4",
   "metadata": {},
   "outputs": [],
   "source": [
    "def print_matrix_as_table(matrix):\n",
    "    # Recorre cada fila en la matriz e imprime cada elemento separado por una tabulación\n",
    "    for row in matrix:\n",
    "        print('\\t'.join(map(str, row)))"
   ]
  },
  {
   "cell_type": "markdown",
   "id": "ecf33b65",
   "metadata": {},
   "source": [
    "# Actividad 1"
   ]
  },
  {
   "cell_type": "markdown",
   "id": "d2286b73",
   "metadata": {},
   "source": [
    "tabla: DNI EDAD CANTIDAD_HIJOS SALARIO"
   ]
  },
  {
   "cell_type": "code",
   "execution_count": 1,
   "id": "b75fef27",
   "metadata": {},
   "outputs": [],
   "source": [
    "empleados_01 = [[20222333,45,2,20000], [33456234,40,0,25000],[45432345,41,1,10000]]"
   ]
  },
  {
   "cell_type": "code",
   "execution_count": 12,
   "id": "fdf5d9ab",
   "metadata": {},
   "outputs": [],
   "source": [
    "def superanSalarioBloque01(matriz):\n",
    "    col_salario = 3\n",
    "    matriz_nueva = []\n",
    "    for x in matriz:\n",
    "        if x[col_salario] > 15000:\n",
    "            matriz_nueva.append(x)\n",
    "    return matriz_nueva"
   ]
  },
  {
   "cell_type": "code",
   "execution_count": 15,
   "id": "ed8ca634",
   "metadata": {},
   "outputs": [
    {
     "name": "stdout",
     "output_type": "stream",
     "text": [
      "20222333\t45\t2\t20000\n",
      "33456234\t40\t0\t25000\n"
     ]
    }
   ],
   "source": [
    "print_matrix_as_table(superanSalarioBloque01(empleados_01))"
   ]
  },
  {
   "cell_type": "markdown",
   "id": "426719e4",
   "metadata": {},
   "source": [
    "# Actividad 2"
   ]
  },
  {
   "cell_type": "code",
   "execution_count": 16,
   "id": "7a16adc2",
   "metadata": {},
   "outputs": [],
   "source": [
    "empleados_02 = [[20222333,45,2,20000], [33456234,40,0,25000],[45432345,41,1,10000], [43967304, 37, 0 ,12000], [42236276, 36, 0, 18000]]"
   ]
  },
  {
   "cell_type": "code",
   "execution_count": 17,
   "id": "c8a122c6",
   "metadata": {},
   "outputs": [
    {
     "name": "stdout",
     "output_type": "stream",
     "text": [
      "20222333\t45\t2\t20000\n",
      "33456234\t40\t0\t25000\n",
      "42236276\t36\t0\t18000\n"
     ]
    }
   ],
   "source": [
    "print_matrix_as_table(superanSalarioBloque01(empleados_02))"
   ]
  },
  {
   "cell_type": "markdown",
   "id": "423363bd",
   "metadata": {},
   "source": [
    "# Actividad 3"
   ]
  },
  {
   "cell_type": "code",
   "execution_count": 67,
   "id": "6a02fb2b",
   "metadata": {},
   "outputs": [],
   "source": [
    "def superanSalarioBloque03(matriz):\n",
    "    col_salario = 1\n",
    "    col_edad = 2\n",
    "    col_hijos =  3\n",
    "    matriz_nueva = []\n",
    "    for x in matriz:\n",
    "        if x[col_salario] > 15000:\n",
    "            matriz_nueva.append(x)\n",
    "    \n",
    "    return matriz_nueva"
   ]
  },
  {
   "cell_type": "code",
   "execution_count": 68,
   "id": "c2b546b6",
   "metadata": {},
   "outputs": [],
   "source": [
    "empleados_03 = [[20222333,20000,45,2],\n",
    "               [33456234,25000,40,0],\n",
    "               [45432345,10000,41,1],\n",
    "               [43967304,12000,37,0],\n",
    "               [42236276,18000,36,0]]"
   ]
  },
  {
   "cell_type": "code",
   "execution_count": 69,
   "id": "f094dfb4",
   "metadata": {},
   "outputs": [
    {
     "name": "stdout",
     "output_type": "stream",
     "text": [
      "20222333\t20000\t45\t2\n",
      "33456234\t25000\t40\t0\n",
      "42236276\t18000\t36\t0\n"
     ]
    }
   ],
   "source": [
    "print_matrix_as_table(superanSalarioBloque03(empleados_03))"
   ]
  },
  {
   "cell_type": "code",
   "execution_count": null,
   "id": "1c308807",
   "metadata": {},
   "outputs": [],
   "source": []
  }
 ],
 "metadata": {
  "kernelspec": {
   "display_name": "Python 3 (ipykernel)",
   "language": "python",
   "name": "python3"
  },
  "language_info": {
   "codemirror_mode": {
    "name": "ipython",
    "version": 3
   },
   "file_extension": ".py",
   "mimetype": "text/x-python",
   "name": "python",
   "nbconvert_exporter": "python",
   "pygments_lexer": "ipython3",
   "version": "3.10.9"
  }
 },
 "nbformat": 4,
 "nbformat_minor": 5
}
